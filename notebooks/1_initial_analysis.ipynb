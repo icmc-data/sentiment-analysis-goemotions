{
  "cells": [
    {
      "cell_type": "code",
      "execution_count": 1,
      "metadata": {
        "id": "xVPY9XU_ozSB"
      },
      "outputs": [
        {
          "name": "stderr",
          "output_type": "stream",
          "text": [
            "/home/vitor/Documents/sentiment-analysis-goemotions/venv/lib/python3.10/site-packages/tqdm/auto.py:21: TqdmWarning: IProgress not found. Please update jupyter and ipywidgets. See https://ipywidgets.readthedocs.io/en/stable/user_install.html\n",
            "  from .autonotebook import tqdm as notebook_tqdm\n"
          ]
        }
      ],
      "source": [
        "import re\n",
        "import numpy as np\n",
        "import pandas as pd\n",
        "from tqdm import tqdm\n",
        "\n",
        "import seaborn as sns\n",
        "sns.set()\n",
        "\n",
        "import matplotlib.pyplot as plt\n",
        "\n",
        "import torch\n",
        "from torch.utils.data import Dataset, DataLoader\n",
        "\n",
        "import evaluate\n",
        "\n",
        "from transformers import AutoTokenizer\n",
        "from transformers import BertForSequenceClassification\n",
        "from transformers import TrainingArguments, Trainer\n",
        "from transformers import DataCollatorWithPadding"
      ]
    },
    {
      "cell_type": "code",
      "execution_count": 2,
      "metadata": {
        "id": "kawNuEzY0iI0"
      },
      "outputs": [],
      "source": [
        "MAX_LENGTH  = 512\n",
        "TRAIN_RATIO = 0.7\n",
        "VAL_RATIO   = 0.2\n",
        "TEST_RATIO  = 0.1\n",
        "BATCH_SIZE  = 16 "
      ]
    },
    {
      "cell_type": "code",
      "execution_count": 3,
      "metadata": {
        "colab": {
          "base_uri": "https://localhost:8080/"
        },
        "id": "pabuWJ3ISgqK",
        "outputId": "4c29c801-a124-4b48-e9cb-35fddedda054"
      },
      "outputs": [
        {
          "name": "stdout",
          "output_type": "stream",
          "text": [
            "device=device(type='cpu')\n"
          ]
        }
      ],
      "source": [
        "device = torch.device('cuda:0' if torch.cuda.is_available() else 'cpu')\n",
        "print(f'{device=}')"
      ]
    },
    {
      "cell_type": "code",
      "execution_count": 4,
      "metadata": {
        "id": "XpYERxeZozSE"
      },
      "outputs": [],
      "source": [
        "df = pd.read_csv('../data/go_emotions_dataset.csv')"
      ]
    },
    {
      "cell_type": "code",
      "execution_count": 5,
      "metadata": {
        "colab": {
          "base_uri": "https://localhost:8080/"
        },
        "id": "wTSQ1QlpozSE",
        "outputId": "78fda191-1b5c-4aa3-da6c-348f2c0782a4"
      },
      "outputs": [
        {
          "name": "stdout",
          "output_type": "stream",
          "text": [
            "0 id\n",
            "1 text\n",
            "2 example_very_unclear\n",
            "3 admiration\n",
            "4 amusement\n",
            "5 anger\n",
            "6 annoyance\n",
            "7 approval\n",
            "8 caring\n",
            "9 confusion\n",
            "10 curiosity\n",
            "11 desire\n",
            "12 disappointment\n",
            "13 disapproval\n",
            "14 disgust\n",
            "15 embarrassment\n",
            "16 excitement\n",
            "17 fear\n",
            "18 gratitude\n",
            "19 grief\n",
            "20 joy\n",
            "21 love\n",
            "22 nervousness\n",
            "23 optimism\n",
            "24 pride\n",
            "25 realization\n",
            "26 relief\n",
            "27 remorse\n",
            "28 sadness\n",
            "29 surprise\n",
            "30 neutral\n"
          ]
        }
      ],
      "source": [
        "for i, col in enumerate(list(df.columns)):\n",
        "    print(i, col)"
      ]
    },
    {
      "cell_type": "code",
      "execution_count": 6,
      "metadata": {
        "id": "9jpuoE7OozSF"
      },
      "outputs": [],
      "source": [
        "list_emotions = [\n",
        "    'admiration', 'amusement', 'approval', 'caring', \n",
        "    'curiosity', 'desire', 'excitement', 'gratitude', \n",
        "    'joy', 'love', 'optimism', 'pride', 'realization', \n",
        "    'surprise', 'anger', 'annoyance', 'confusion', 'disappointment', \n",
        "    'disapproval', 'disgust', 'embarrassment', 'fear', \n",
        "    'grief', 'nervousness', 'relief', 'remorse', 'sadness', 'neutral'\n",
        "]"
      ]
    },
    {
      "attachments": {},
      "cell_type": "markdown",
      "metadata": {
        "id": "iQtzmPoCMcGM"
      },
      "source": [
        "### Excluindo amostras com mais de 1 label"
      ]
    },
    {
      "cell_type": "code",
      "execution_count": 7,
      "metadata": {
        "id": "N25DvbAAozSL"
      },
      "outputs": [],
      "source": [
        "df['num_labels'] = df[list_emotions].apply(lambda x: np.sum(x), 1)"
      ]
    },
    {
      "cell_type": "code",
      "execution_count": 8,
      "metadata": {
        "colab": {
          "base_uri": "https://localhost:8080/"
        },
        "id": "ezPkaLLoozSL",
        "outputId": "b5d1d9c1-ac25-46ab-e3be-4ea86397261d"
      },
      "outputs": [
        {
          "name": "stdout",
          "output_type": "stream",
          "text": [
            "Número de amostras com + de 1 label: 39405\n",
            "Tamanho do dataset retirando essas amostras: 171820\n"
          ]
        }
      ],
      "source": [
        "print(f\"Número de amostras com + de 1 label: {df[df['num_labels'] != 1].shape[0]}\")\n",
        "print(f\"Tamanho do dataset retirando essas amostras: {df.shape[0] - df[df['num_labels'] != 1].shape[0]}\")"
      ]
    },
    {
      "cell_type": "code",
      "execution_count": 9,
      "metadata": {
        "id": "s6sAVkeUozSL"
      },
      "outputs": [
        {
          "data": {
            "text/html": [
              "<div>\n",
              "<style scoped>\n",
              "    .dataframe tbody tr th:only-of-type {\n",
              "        vertical-align: middle;\n",
              "    }\n",
              "\n",
              "    .dataframe tbody tr th {\n",
              "        vertical-align: top;\n",
              "    }\n",
              "\n",
              "    .dataframe thead th {\n",
              "        text-align: right;\n",
              "    }\n",
              "</style>\n",
              "<table border=\"1\" class=\"dataframe\">\n",
              "  <thead>\n",
              "    <tr style=\"text-align: right;\">\n",
              "      <th></th>\n",
              "      <th>id</th>\n",
              "      <th>text</th>\n",
              "      <th>example_very_unclear</th>\n",
              "      <th>admiration</th>\n",
              "      <th>amusement</th>\n",
              "      <th>anger</th>\n",
              "      <th>annoyance</th>\n",
              "      <th>approval</th>\n",
              "      <th>caring</th>\n",
              "      <th>confusion</th>\n",
              "      <th>...</th>\n",
              "      <th>nervousness</th>\n",
              "      <th>optimism</th>\n",
              "      <th>pride</th>\n",
              "      <th>realization</th>\n",
              "      <th>relief</th>\n",
              "      <th>remorse</th>\n",
              "      <th>sadness</th>\n",
              "      <th>surprise</th>\n",
              "      <th>neutral</th>\n",
              "      <th>num_labels</th>\n",
              "    </tr>\n",
              "  </thead>\n",
              "  <tbody>\n",
              "    <tr>\n",
              "      <th>0</th>\n",
              "      <td>eew5j0j</td>\n",
              "      <td>That game hurt.</td>\n",
              "      <td>False</td>\n",
              "      <td>0</td>\n",
              "      <td>0</td>\n",
              "      <td>0</td>\n",
              "      <td>0</td>\n",
              "      <td>0</td>\n",
              "      <td>0</td>\n",
              "      <td>0</td>\n",
              "      <td>...</td>\n",
              "      <td>0</td>\n",
              "      <td>0</td>\n",
              "      <td>0</td>\n",
              "      <td>0</td>\n",
              "      <td>0</td>\n",
              "      <td>0</td>\n",
              "      <td>1</td>\n",
              "      <td>0</td>\n",
              "      <td>0</td>\n",
              "      <td>1</td>\n",
              "    </tr>\n",
              "    <tr>\n",
              "      <th>2</th>\n",
              "      <td>ed2mah1</td>\n",
              "      <td>You do right, if you don't care then fuck 'em!</td>\n",
              "      <td>False</td>\n",
              "      <td>0</td>\n",
              "      <td>0</td>\n",
              "      <td>0</td>\n",
              "      <td>0</td>\n",
              "      <td>0</td>\n",
              "      <td>0</td>\n",
              "      <td>0</td>\n",
              "      <td>...</td>\n",
              "      <td>0</td>\n",
              "      <td>0</td>\n",
              "      <td>0</td>\n",
              "      <td>0</td>\n",
              "      <td>0</td>\n",
              "      <td>0</td>\n",
              "      <td>0</td>\n",
              "      <td>0</td>\n",
              "      <td>1</td>\n",
              "      <td>1</td>\n",
              "    </tr>\n",
              "    <tr>\n",
              "      <th>3</th>\n",
              "      <td>eeibobj</td>\n",
              "      <td>Man I love reddit.</td>\n",
              "      <td>False</td>\n",
              "      <td>0</td>\n",
              "      <td>0</td>\n",
              "      <td>0</td>\n",
              "      <td>0</td>\n",
              "      <td>0</td>\n",
              "      <td>0</td>\n",
              "      <td>0</td>\n",
              "      <td>...</td>\n",
              "      <td>0</td>\n",
              "      <td>0</td>\n",
              "      <td>0</td>\n",
              "      <td>0</td>\n",
              "      <td>0</td>\n",
              "      <td>0</td>\n",
              "      <td>0</td>\n",
              "      <td>0</td>\n",
              "      <td>0</td>\n",
              "      <td>1</td>\n",
              "    </tr>\n",
              "    <tr>\n",
              "      <th>4</th>\n",
              "      <td>eda6yn6</td>\n",
              "      <td>[NAME] was nowhere near them, he was by the Fa...</td>\n",
              "      <td>False</td>\n",
              "      <td>0</td>\n",
              "      <td>0</td>\n",
              "      <td>0</td>\n",
              "      <td>0</td>\n",
              "      <td>0</td>\n",
              "      <td>0</td>\n",
              "      <td>0</td>\n",
              "      <td>...</td>\n",
              "      <td>0</td>\n",
              "      <td>0</td>\n",
              "      <td>0</td>\n",
              "      <td>0</td>\n",
              "      <td>0</td>\n",
              "      <td>0</td>\n",
              "      <td>0</td>\n",
              "      <td>0</td>\n",
              "      <td>1</td>\n",
              "      <td>1</td>\n",
              "    </tr>\n",
              "    <tr>\n",
              "      <th>5</th>\n",
              "      <td>eespn2i</td>\n",
              "      <td>Right? Considering it’s such an important docu...</td>\n",
              "      <td>False</td>\n",
              "      <td>0</td>\n",
              "      <td>0</td>\n",
              "      <td>0</td>\n",
              "      <td>0</td>\n",
              "      <td>0</td>\n",
              "      <td>0</td>\n",
              "      <td>0</td>\n",
              "      <td>...</td>\n",
              "      <td>0</td>\n",
              "      <td>0</td>\n",
              "      <td>0</td>\n",
              "      <td>0</td>\n",
              "      <td>0</td>\n",
              "      <td>0</td>\n",
              "      <td>0</td>\n",
              "      <td>0</td>\n",
              "      <td>0</td>\n",
              "      <td>1</td>\n",
              "    </tr>\n",
              "  </tbody>\n",
              "</table>\n",
              "<p>5 rows × 32 columns</p>\n",
              "</div>"
            ],
            "text/plain": [
              "        id                                               text  \\\n",
              "0  eew5j0j                                    That game hurt.   \n",
              "2  ed2mah1     You do right, if you don't care then fuck 'em!   \n",
              "3  eeibobj                                 Man I love reddit.   \n",
              "4  eda6yn6  [NAME] was nowhere near them, he was by the Fa...   \n",
              "5  eespn2i  Right? Considering it’s such an important docu...   \n",
              "\n",
              "   example_very_unclear  admiration  amusement  anger  annoyance  approval  \\\n",
              "0                 False           0          0      0          0         0   \n",
              "2                 False           0          0      0          0         0   \n",
              "3                 False           0          0      0          0         0   \n",
              "4                 False           0          0      0          0         0   \n",
              "5                 False           0          0      0          0         0   \n",
              "\n",
              "   caring  confusion  ...  nervousness  optimism  pride  realization  relief  \\\n",
              "0       0          0  ...            0         0      0            0       0   \n",
              "2       0          0  ...            0         0      0            0       0   \n",
              "3       0          0  ...            0         0      0            0       0   \n",
              "4       0          0  ...            0         0      0            0       0   \n",
              "5       0          0  ...            0         0      0            0       0   \n",
              "\n",
              "   remorse  sadness  surprise  neutral  num_labels  \n",
              "0        0        1         0        0           1  \n",
              "2        0        0         0        1           1  \n",
              "3        0        0         0        0           1  \n",
              "4        0        0         0        1           1  \n",
              "5        0        0         0        0           1  \n",
              "\n",
              "[5 rows x 32 columns]"
            ]
          },
          "execution_count": 9,
          "metadata": {},
          "output_type": "execute_result"
        }
      ],
      "source": [
        "df = df.drop(df[df['num_labels'] != 1].index)\n",
        "df.head()"
      ]
    },
    {
      "cell_type": "markdown",
      "metadata": {},
      "source": [
        "### Contabilizando número de labels no dataset"
      ]
    },
    {
      "cell_type": "code",
      "execution_count": 10,
      "metadata": {
        "id": "IBrEhMwhozSF"
      },
      "outputs": [
        {
          "data": {
            "text/plain": [
              "{'admiration': 10531,\n",
              " 'amusement': 6130,\n",
              " 'approval': 11259,\n",
              " 'caring': 3523,\n",
              " 'curiosity': 5885,\n",
              " 'desire': 2147,\n",
              " 'excitement': 3020,\n",
              " 'gratitude': 7075,\n",
              " 'joy': 4329,\n",
              " 'love': 4957,\n",
              " 'optimism': 4519,\n",
              " 'pride': 690,\n",
              " 'realization': 4714,\n",
              " 'surprise': 3472,\n",
              " 'anger': 5202,\n",
              " 'annoyance': 8342,\n",
              " 'confusion': 4938,\n",
              " 'disappointment': 4706,\n",
              " 'disapproval': 7686,\n",
              " 'disgust': 2914,\n",
              " 'embarrassment': 1433,\n",
              " 'fear': 1778,\n",
              " 'grief': 351,\n",
              " 'nervousness': 796,\n",
              " 'relief': 788,\n",
              " 'remorse': 1510,\n",
              " 'sadness': 3827,\n",
              " 'neutral': 55298}"
            ]
          },
          "execution_count": 10,
          "metadata": {},
          "output_type": "execute_result"
        }
      ],
      "source": [
        "emotions_count = {}\n",
        "for emotion in list_emotions:\n",
        "    emotions_count[emotion] = df[emotion].value_counts().to_dict()[1]\n",
        "emotions_count"
      ]
    },
    {
      "cell_type": "code",
      "execution_count": 11,
      "metadata": {
        "colab": {
          "base_uri": "https://localhost:8080/",
          "height": 758
        },
        "id": "7maOhil5ozSG",
        "outputId": "2eccfc91-2fb9-4364-83f5-442fd0bf50a1"
      },
      "outputs": [
        {
          "data": {
            "text/plain": [
              "<function matplotlib.pyplot.show(close=None, block=None)>"
            ]
          },
          "execution_count": 11,
          "metadata": {},
          "output_type": "execute_result"
        },
        {
          "data": {
            "image/png": "[encoded data removed]",
            "text/plain": [
              "<Figure size 1000x800 with 1 Axes>"
            ]
          },
          "metadata": {},
          "output_type": "display_data"
        }
      ],
      "source": [
        "plt.figure(figsize=(10,8))\n",
        "plt.bar(x=emotions_count.keys(), height=emotions_count.values())\n",
        "plt.xticks(rotation=-90)\n",
        "plt.show"
      ]
    },
    {
      "attachments": {},
      "cell_type": "markdown",
      "metadata": {
        "id": "oxs50doUozSI"
      },
      "source": [
        "Como os dados não estão balanceados, iremos pensar em eliminar algumas labels/emoções da classe positiva."
      ]
    },
    {
      "cell_type": "code",
      "execution_count": 12,
      "metadata": {
        "id": "Eje_3fzSozSJ"
      },
      "outputs": [
        {
          "name": "stdout",
          "output_type": "stream",
          "text": [
            "Assim, possuimos cerca de 3550.4285714285716 amostras por classe\n"
          ]
        }
      ],
      "source": [
        "threshold = 5000\n",
        "ids = []\n",
        "for emotion in list_emotions:\n",
        "    if emotions_count[emotion] > threshold:\n",
        "        ids += df[df[emotion] == 1].sample(threshold).index.to_list()\n",
        "    else:\n",
        "        ids += df[df[emotion] == 1].index.to_list()\n",
        "print(f\"Assim, possuimos cerca de {len(ids)/len(list_emotions)} amostras por classe\")"
      ]
    },
    {
      "cell_type": "code",
      "execution_count": 13,
      "metadata": {
        "colab": {
          "base_uri": "https://localhost:8080/"
        },
        "id": "Ib0fR5e9ozSJ",
        "outputId": "55867a5b-a724-4eb9-9f63-bad345a6aa37"
      },
      "outputs": [
        {
          "name": "stdout",
          "output_type": "stream",
          "text": [
            "Número de amostras mantidas: 99412\n"
          ]
        }
      ],
      "source": [
        "print(f'Número de amostras mantidas: {len(ids)}')"
      ]
    },
    {
      "cell_type": "code",
      "execution_count": 14,
      "metadata": {
        "id": "9RgjRfvNozSJ"
      },
      "outputs": [
        {
          "data": {
            "text/plain": [
              "99412"
            ]
          },
          "execution_count": 14,
          "metadata": {},
          "output_type": "execute_result"
        }
      ],
      "source": [
        "df_balanced = df[df.index.isin(ids)]\n",
        "len(df_balanced)"
      ]
    },
    {
      "cell_type": "code",
      "execution_count": 15,
      "metadata": {},
      "outputs": [
        {
          "data": {
            "text/plain": [
              "{'admiration': 5000,\n",
              " 'amusement': 5000,\n",
              " 'approval': 5000,\n",
              " 'caring': 3523,\n",
              " 'curiosity': 5000,\n",
              " 'desire': 2147,\n",
              " 'excitement': 3020,\n",
              " 'gratitude': 5000,\n",
              " 'joy': 4329,\n",
              " 'love': 4957,\n",
              " 'optimism': 4519,\n",
              " 'pride': 690,\n",
              " 'realization': 4714,\n",
              " 'surprise': 3472,\n",
              " 'anger': 5000,\n",
              " 'annoyance': 5000,\n",
              " 'confusion': 4938,\n",
              " 'disappointment': 4706,\n",
              " 'disapproval': 5000,\n",
              " 'disgust': 2914,\n",
              " 'embarrassment': 1433,\n",
              " 'fear': 1778,\n",
              " 'grief': 351,\n",
              " 'nervousness': 796,\n",
              " 'relief': 788,\n",
              " 'remorse': 1510,\n",
              " 'sadness': 3827,\n",
              " 'neutral': 5000}"
            ]
          },
          "execution_count": 15,
          "metadata": {},
          "output_type": "execute_result"
        }
      ],
      "source": [
        "emotions_count = {}\n",
        "for emotion in list_emotions:\n",
        "    emotions_count[emotion] = df_balanced[emotion].value_counts().to_dict()[1]\n",
        "emotions_count"
      ]
    },
    {
      "cell_type": "code",
      "execution_count": 16,
      "metadata": {
        "colab": {
          "base_uri": "https://localhost:8080/",
          "height": 450
        },
        "id": "hUpn23ePozSK",
        "outputId": "d427875a-75f4-4209-da22-39c9715f3ea9"
      },
      "outputs": [
        {
          "data": {
            "image/png": "[encoded data removed]",
            "text/plain": [
              "<Figure size 1000x500 with 1 Axes>"
            ]
          },
          "metadata": {},
          "output_type": "display_data"
        }
      ],
      "source": [
        "plt.figure(figsize=(10,5))\n",
        "plt.bar(x=emotions_count.keys(), height=emotions_count.values())\n",
        "plt.xticks(rotation=-90)\n",
        "plt.show()"
      ]
    },
    {
      "cell_type": "markdown",
      "metadata": {},
      "source": [
        "Os dados estão mais equilibrados"
      ]
    },
    {
      "attachments": {},
      "cell_type": "markdown",
      "metadata": {
        "id": "TSeLfGccM4Ra"
      },
      "source": [
        "#### **Pré-processamento**"
      ]
    },
    {
      "cell_type": "code",
      "execution_count": 19,
      "metadata": {
        "id": "1OD_VOpyquCI"
      },
      "outputs": [],
      "source": [
        "def preprocess_with_emojis(text):\n",
        "    preprocessed_text = re.sub(r'http\\S+', '', text) # removendo links\n",
        "    preprocessed_text = preprocessed_text.replace('\"', '')    # removendo aspas\n",
        "    preprocessed_text = re.sub(\"[-*!,$><:.+?=]\", '', preprocessed_text) # remove outras pontuações\n",
        "\n",
        "    preprocessed_text = re.sub(r'[.]\\s+', '', preprocessed_text)  # removendo reticências \n",
        "    emojis = re.compile(\"[\"\n",
        "        u\"\\U0001F600-\\U0001F64F\"  # emoticons\n",
        "        u\"\\U0001F300-\\U0001F5FF\"  # symbols & pictographs\n",
        "        u\"\\U0001F680-\\U0001F6FF\"  # transport & map symbols\n",
        "        u\"\\U0001F1E0-\\U0001F1FF\"  # flags (iOS)\n",
        "        u\"\\U00002500-\\U00002BEF\"  # chinese char\n",
        "        u\"\\U00002702-\\U000027B0\"\n",
        "        u\"\\U00002702-\\U000027B0\"\n",
        "        u\"\\U000024C2-\\U0001F251\"\n",
        "        u\"\\U0001f926-\\U0001f937\"\n",
        "        u\"\\U00010000-\\U0010ffff\"\n",
        "        u\"\\u2640-\\u2642\" \n",
        "        u\"\\u2600-\\u2B55\"\n",
        "        u\"\\u200d\"\n",
        "        u\"\\u23cf\"\n",
        "        u\"\\u23e9\"\n",
        "        u\"\\u231a\"\n",
        "        u\"\\ufe0f\"  # dingbats\n",
        "        u\"\\u3030\"\n",
        "                      \"]+\", re.UNICODE)\n",
        "    preprocessed_text = re.sub(emojis, ' ', preprocessed_text) # removendo emojis\n",
        "    preprocessed_text = re.sub(r'  ', ' ', preprocessed_text) # removendo espaços extras\n",
        "    \n",
        "    return preprocessed_text.lower()  \n",
        "\n",
        "def pre_process_text(text):\n",
        "    preprocessed_text = re.sub(r'http\\S+', '', text) # removendo links\n",
        "    preprocessed_text = preprocessed_text.replace('\"', '')    # removendo aspas\n",
        "    preprocessed_text = re.sub(\"[-*!,$><:.+?=]\", '', preprocessed_text) # remove outras pontuações\n",
        "    \n",
        "    preprocessed_text = re.sub(r'[.]\\s+', '', preprocessed_text)  # removendo reticências \n",
        "    preprocessed_text = re.sub(r'  ', ' ', preprocessed_text) # removendo espaços extras\n",
        "    \n",
        "    return preprocessed_text.lower()"
      ]
    },
    {
      "cell_type": "code",
      "execution_count": 20,
      "metadata": {
        "colab": {
          "base_uri": "https://localhost:8080/",
          "height": 206
        },
        "id": "OAU5s7_etR6O",
        "outputId": "160ef018-fcc9-409a-fa99-2d360055846c"
      },
      "outputs": [
        {
          "name": "stderr",
          "output_type": "stream",
          "text": [
            "/tmp/ipykernel_32718/1539554176.py:1: FutureWarning: the convert_dtype parameter is deprecated and will be removed in a future version.  Do ``ser.astype(object).apply()`` instead if you want ``convert_dtype=False``.\n",
            "  df_balanced['text'] = df_balanced['text'].apply(pre_process_text, 1)\n",
            "/tmp/ipykernel_32718/1539554176.py:1: SettingWithCopyWarning: \n",
            "A value is trying to be set on a copy of a slice from a DataFrame.\n",
            "Try using .loc[row_indexer,col_indexer] = value instead\n",
            "\n",
            "See the caveats in the documentation: https://pandas.pydata.org/pandas-docs/stable/user_guide/indexing.html#returning-a-view-versus-a-copy\n",
            "  df_balanced['text'] = df_balanced['text'].apply(pre_process_text, 1)\n"
          ]
        },
        {
          "data": {
            "text/html": [
              "<div>\n",
              "<style scoped>\n",
              "    .dataframe tbody tr th:only-of-type {\n",
              "        vertical-align: middle;\n",
              "    }\n",
              "\n",
              "    .dataframe tbody tr th {\n",
              "        vertical-align: top;\n",
              "    }\n",
              "\n",
              "    .dataframe thead th {\n",
              "        text-align: right;\n",
              "    }\n",
              "</style>\n",
              "<table border=\"1\" class=\"dataframe\">\n",
              "  <thead>\n",
              "    <tr style=\"text-align: right;\">\n",
              "      <th></th>\n",
              "      <th>id</th>\n",
              "      <th>text</th>\n",
              "      <th>example_very_unclear</th>\n",
              "      <th>admiration</th>\n",
              "      <th>amusement</th>\n",
              "      <th>anger</th>\n",
              "      <th>annoyance</th>\n",
              "      <th>approval</th>\n",
              "      <th>caring</th>\n",
              "      <th>confusion</th>\n",
              "      <th>...</th>\n",
              "      <th>nervousness</th>\n",
              "      <th>optimism</th>\n",
              "      <th>pride</th>\n",
              "      <th>realization</th>\n",
              "      <th>relief</th>\n",
              "      <th>remorse</th>\n",
              "      <th>sadness</th>\n",
              "      <th>surprise</th>\n",
              "      <th>neutral</th>\n",
              "      <th>num_labels</th>\n",
              "    </tr>\n",
              "  </thead>\n",
              "  <tbody>\n",
              "    <tr>\n",
              "      <th>0</th>\n",
              "      <td>eew5j0j</td>\n",
              "      <td>that game hurt</td>\n",
              "      <td>False</td>\n",
              "      <td>0</td>\n",
              "      <td>0</td>\n",
              "      <td>0</td>\n",
              "      <td>0</td>\n",
              "      <td>0</td>\n",
              "      <td>0</td>\n",
              "      <td>0</td>\n",
              "      <td>...</td>\n",
              "      <td>0</td>\n",
              "      <td>0</td>\n",
              "      <td>0</td>\n",
              "      <td>0</td>\n",
              "      <td>0</td>\n",
              "      <td>0</td>\n",
              "      <td>1</td>\n",
              "      <td>0</td>\n",
              "      <td>0</td>\n",
              "      <td>1</td>\n",
              "    </tr>\n",
              "    <tr>\n",
              "      <th>3</th>\n",
              "      <td>eeibobj</td>\n",
              "      <td>man i love reddit</td>\n",
              "      <td>False</td>\n",
              "      <td>0</td>\n",
              "      <td>0</td>\n",
              "      <td>0</td>\n",
              "      <td>0</td>\n",
              "      <td>0</td>\n",
              "      <td>0</td>\n",
              "      <td>0</td>\n",
              "      <td>...</td>\n",
              "      <td>0</td>\n",
              "      <td>0</td>\n",
              "      <td>0</td>\n",
              "      <td>0</td>\n",
              "      <td>0</td>\n",
              "      <td>0</td>\n",
              "      <td>0</td>\n",
              "      <td>0</td>\n",
              "      <td>0</td>\n",
              "      <td>1</td>\n",
              "    </tr>\n",
              "    <tr>\n",
              "      <th>5</th>\n",
              "      <td>eespn2i</td>\n",
              "      <td>right considering it’s such an important docum...</td>\n",
              "      <td>False</td>\n",
              "      <td>0</td>\n",
              "      <td>0</td>\n",
              "      <td>0</td>\n",
              "      <td>0</td>\n",
              "      <td>0</td>\n",
              "      <td>0</td>\n",
              "      <td>0</td>\n",
              "      <td>...</td>\n",
              "      <td>0</td>\n",
              "      <td>0</td>\n",
              "      <td>0</td>\n",
              "      <td>0</td>\n",
              "      <td>0</td>\n",
              "      <td>0</td>\n",
              "      <td>0</td>\n",
              "      <td>0</td>\n",
              "      <td>0</td>\n",
              "      <td>1</td>\n",
              "    </tr>\n",
              "    <tr>\n",
              "      <th>7</th>\n",
              "      <td>ed5tx8y</td>\n",
              "      <td>that's crazy; i went to a super [religion] hig...</td>\n",
              "      <td>False</td>\n",
              "      <td>0</td>\n",
              "      <td>1</td>\n",
              "      <td>0</td>\n",
              "      <td>0</td>\n",
              "      <td>0</td>\n",
              "      <td>0</td>\n",
              "      <td>0</td>\n",
              "      <td>...</td>\n",
              "      <td>0</td>\n",
              "      <td>0</td>\n",
              "      <td>0</td>\n",
              "      <td>0</td>\n",
              "      <td>0</td>\n",
              "      <td>0</td>\n",
              "      <td>0</td>\n",
              "      <td>0</td>\n",
              "      <td>0</td>\n",
              "      <td>1</td>\n",
              "    </tr>\n",
              "    <tr>\n",
              "      <th>8</th>\n",
              "      <td>ef961hv</td>\n",
              "      <td>that's adorable asf</td>\n",
              "      <td>False</td>\n",
              "      <td>0</td>\n",
              "      <td>1</td>\n",
              "      <td>0</td>\n",
              "      <td>0</td>\n",
              "      <td>0</td>\n",
              "      <td>0</td>\n",
              "      <td>0</td>\n",
              "      <td>...</td>\n",
              "      <td>0</td>\n",
              "      <td>0</td>\n",
              "      <td>0</td>\n",
              "      <td>0</td>\n",
              "      <td>0</td>\n",
              "      <td>0</td>\n",
              "      <td>0</td>\n",
              "      <td>0</td>\n",
              "      <td>0</td>\n",
              "      <td>1</td>\n",
              "    </tr>\n",
              "  </tbody>\n",
              "</table>\n",
              "<p>5 rows × 32 columns</p>\n",
              "</div>"
            ],
            "text/plain": [
              "        id                                               text  \\\n",
              "0  eew5j0j                                     that game hurt   \n",
              "3  eeibobj                                  man i love reddit   \n",
              "5  eespn2i  right considering it’s such an important docum...   \n",
              "7  ed5tx8y  that's crazy; i went to a super [religion] hig...   \n",
              "8  ef961hv                                that's adorable asf   \n",
              "\n",
              "   example_very_unclear  admiration  amusement  anger  annoyance  approval  \\\n",
              "0                 False           0          0      0          0         0   \n",
              "3                 False           0          0      0          0         0   \n",
              "5                 False           0          0      0          0         0   \n",
              "7                 False           0          1      0          0         0   \n",
              "8                 False           0          1      0          0         0   \n",
              "\n",
              "   caring  confusion  ...  nervousness  optimism  pride  realization  relief  \\\n",
              "0       0          0  ...            0         0      0            0       0   \n",
              "3       0          0  ...            0         0      0            0       0   \n",
              "5       0          0  ...            0         0      0            0       0   \n",
              "7       0          0  ...            0         0      0            0       0   \n",
              "8       0          0  ...            0         0      0            0       0   \n",
              "\n",
              "   remorse  sadness  surprise  neutral  num_labels  \n",
              "0        0        1         0        0           1  \n",
              "3        0        0         0        0           1  \n",
              "5        0        0         0        0           1  \n",
              "7        0        0         0        0           1  \n",
              "8        0        0         0        0           1  \n",
              "\n",
              "[5 rows x 32 columns]"
            ]
          },
          "execution_count": 20,
          "metadata": {},
          "output_type": "execute_result"
        }
      ],
      "source": [
        "df_balanced['text'] = df_balanced['text'].apply(pre_process_text, 1)\n",
        "df_balanced.head()"
      ]
    },
    {
      "cell_type": "code",
      "execution_count": 21,
      "metadata": {},
      "outputs": [],
      "source": [
        "df_balanced.to_csv(\"../data/processed_go_emotions.csv\",index=False)"
      ]
    },
    {
      "attachments": {},
      "cell_type": "markdown",
      "metadata": {
        "id": "mHe7FzfrOPKd"
      },
      "source": [
        "## **Carregando tokenizer e modelo**"
      ]
    },
    {
      "cell_type": "code",
      "execution_count": null,
      "metadata": {
        "colab": {
          "base_uri": "https://localhost:8080/",
          "height": 145,
          "referenced_widgets": [
            "81f564d0193d48bd94821c18ab073d9a",
            "1230828bdca7411ea2c00d323d030dc9",
            "98339c2ce5ff44e1a5c939a0891121d2",
            "f9e965154dfa4e3cbd04c913d5a418ec",
            "c6e25dedec574ae7bb2cdea93f76e114",
            "416a838f4ab94ab7ab78d0c2205957fe",
            "49936f8f0b3b4614ad0977a60fe868c5",
            "f60b8f0a49eb4fe284a3d8366add29ca",
            "e87f84973012488bbed438282b225ccb",
            "ec48937136a347a3be3028dadbe721d0",
            "0c7918746f764b80807e3591d7263889",
            "917ff45836b5416892cb9e82235e3103",
            "a287798d55b445c9b6e2a7039c5e2c13",
            "4418165d579447db8d336ab25eb3e338",
            "341f4058c4604dfc8a379e03190305a3",
            "64e13629ef25495cad8bdebbbc87efb8",
            "c6801d01d89f47509e40dc7a64e72b25",
            "0a1309ab5a7649b090bb759480309167",
            "61b5e144377d4dcd9af41ec9f9d93400",
            "410a9fc602ca4406866e54fa1f9f3042",
            "fbde99897b844287a47bcc4fcc9e46e7",
            "4ae2f11d315d47ba89ca54c7142b0cb7",
            "9e201a64cbca48899176f1963b9469df",
            "fd478ff597d44c02a474cd2e638bed76",
            "630b46e33e404b329e9fb5a220256e68",
            "4444ec23b27f4af0bd286f60aeec81a3",
            "1b005d3d23814f4091e423bb3d41fd1b",
            "2db8efea85414ccd90cf29ab1828fa71",
            "0749dce4ec5446d8af903bbf81d847f4",
            "12715c584ac24d279d0bca01f9f969f1",
            "064f63b734b8444490c6b562689ed91d",
            "b6af9fdc0bcf4b0e92886ceba2a63aa2",
            "73149374edcf4b4a8a490c6a8e48e5cb",
            "6065d35c66d3478ea36b0772143ad95c",
            "298808cdde6443a7a27107e4051e94d3",
            "8dd295baec0c41469e16a08a09cfed7e",
            "018b49955c754a7482e858bd5946597c",
            "1cf7798a126242eda4f5247ac2a8e253",
            "9b319c99480e4b8aad0b8efbecf9e484",
            "4ce898cb9bb14b8189a1e07e7a9a4245",
            "108763e0c75d44e9969c883477664e70",
            "b74ba9a7d9c441f0b600ad3babf41455",
            "f759fe3b1d9d443ead8755fb1fdcac3c",
            "f8249641a1ac4190b358c3dd4982fa73"
          ]
        },
        "id": "7S_FlZHkpQXb",
        "outputId": "9328a018-56c5-4e50-e562-374893a7d545"
      },
      "outputs": [],
      "source": [
        "base = 'bert-base-uncased'\n",
        "tokenizer = AutoTokenizer.from_pretrained(base)"
      ]
    },
    {
      "cell_type": "code",
      "execution_count": null,
      "metadata": {
        "id": "iGdjiOliOhXI"
      },
      "outputs": [],
      "source": [
        "df_tokenized = tokenizer(df_labeled['preprocessed_text'].to_list(), return_tensors='pt', padding=True, truncation=True, max_length=MAX_LENGTH)"
      ]
    },
    {
      "cell_type": "code",
      "execution_count": null,
      "metadata": {},
      "outputs": [],
      "source": [
        "df_tokenized.keys()"
      ]
    },
    {
      "cell_type": "code",
      "execution_count": null,
      "metadata": {
        "colab": {
          "base_uri": "https://localhost:8080/"
        },
        "id": "pW-NATl_O8bO",
        "outputId": "8878a2f8-98db-4c56-f73f-1f6af7a29c7b"
      },
      "outputs": [],
      "source": [
        "print(df_tokenized['input_ids'].shape, df_tokenized['attention_mask'].shape)"
      ]
    },
    {
      "cell_type": "code",
      "execution_count": null,
      "metadata": {},
      "outputs": [],
      "source": [
        "def compute_metrics(eval_pred):\n",
        "    load_accuracy = evaluate.load('accuracy')\n",
        "    load_f1 = evaluate.load('f1')\n",
        "\n",
        "    logits, labels = eval_pred\n",
        "\n",
        "    predictions = np.argmax(logits, axis=-1)\n",
        "    accuracy = load_accuracy.compute(predictions=predictions, references=labels)[\"accuracy\"]\n",
        "    f1 = load_f1.compute(predictions=predictions, references=labels)[\"f1\"]\n",
        "    return {\"accuracy\": accuracy, \"f1\": f1}"
      ]
    },
    {
      "attachments": {},
      "cell_type": "markdown",
      "metadata": {
        "id": "0mfR-0xzQ5KS"
      },
      "source": [
        "### **Dataloader**"
      ]
    },
    {
      "cell_type": "code",
      "execution_count": null,
      "metadata": {
        "id": "Fc7d9XejQ8bW"
      },
      "outputs": [],
      "source": [
        "class TextDataset(Dataset):\n",
        "    def __init__(self, X, y):\n",
        "        self.X = X\n",
        "        self.y = y\n",
        "        self.len = len(y)\n",
        "    \n",
        "    def __len__(self):\n",
        "        return self.len\n",
        "    \n",
        "    def __getitem__(self, idx):\n",
        "        item = {key: val[idx] for key, val in self.X.items()} \n",
        "        item['labels'] = self.y[idx]\n",
        "        return item"
      ]
    },
    {
      "cell_type": "code",
      "execution_count": null,
      "metadata": {
        "id": "Ek_iNpGpRmky"
      },
      "outputs": [],
      "source": [
        "dataset = TextDataset(df_tokenized, torch.tensor(df_labeled['imdb_label'].to_numpy()))"
      ]
    },
    {
      "cell_type": "code",
      "execution_count": null,
      "metadata": {
        "colab": {
          "base_uri": "https://localhost:8080/"
        },
        "id": "wPQhdpNIRqtd",
        "outputId": "52b37dc0-4279-4a7a-8773-1635bd734f7b"
      },
      "outputs": [],
      "source": [
        "n_train_instances = int(np.round(dataset.len * TRAIN_RATIO))\n",
        "n_val_instances = int(np.round(dataset.len * VAL_RATIO))\n",
        "n_test_instances = int(np.round(dataset.len * TEST_RATIO))\n",
        "print(f'Treino: {n_train_instances}, Val.: {n_val_instances}, Teste: {n_test_instances}')"
      ]
    },
    {
      "cell_type": "code",
      "execution_count": null,
      "metadata": {
        "id": "Bb87aA3USBnJ"
      },
      "outputs": [],
      "source": [
        "train_split, val_split, test_split = torch.utils.data.random_split(dataset, [n_train_instances, n_val_instances, n_test_instances])"
      ]
    },
    {
      "attachments": {},
      "cell_type": "markdown",
      "metadata": {},
      "source": [
        "## **Treinando com framework trainer**"
      ]
    },
    {
      "cell_type": "code",
      "execution_count": null,
      "metadata": {},
      "outputs": [],
      "source": [
        "model_name = 'bert-base-uncased'\n",
        "model = BertForSequenceClassification.from_pretrained(model_name, num_labels=2, output_attentions=False, output_hidden_states=False)\n",
        "model.to(device)"
      ]
    },
    {
      "cell_type": "code",
      "execution_count": null,
      "metadata": {},
      "outputs": [],
      "source": [
        "repo_name = \"./finetuning-sentiment-go-emotions\"\n",
        " \n",
        "training_args = TrainingArguments(\n",
        "   output_dir=repo_name,\n",
        "   learning_rate=2e-5,\n",
        "   per_device_train_batch_size=16,\n",
        "   per_device_eval_batch_size=16,\n",
        "   num_train_epochs=3,\n",
        "   evaluation_strategy='epoch',\n",
        "   save_total_limit=5\n",
        ")\n",
        " \n",
        "trainer = Trainer(\n",
        "   model=model,\n",
        "   args=training_args,\n",
        "   train_dataset=train_split,\n",
        "   eval_dataset=val_split,\n",
        "   tokenizer=tokenizer,\n",
        "   data_collator=DataCollatorWithPadding(tokenizer=tokenizer),\n",
        "   compute_metrics=compute_metrics,\n",
        ")"
      ]
    },
    {
      "cell_type": "code",
      "execution_count": null,
      "metadata": {},
      "outputs": [],
      "source": [
        "trainer.train()"
      ]
    },
    {
      "cell_type": "code",
      "execution_count": null,
      "metadata": {},
      "outputs": [],
      "source": [
        "trainer.evaluate()"
      ]
    },
    {
      "cell_type": "code",
      "execution_count": null,
      "metadata": {},
      "outputs": [],
      "source": [
        "torch.save(model.state_dict(), './model_weights_trainer.pth')"
      ]
    },
    {
      "attachments": {},
      "cell_type": "markdown",
      "metadata": {},
      "source": [
        "## **Training with training loop**"
      ]
    },
    {
      "cell_type": "code",
      "execution_count": null,
      "metadata": {},
      "outputs": [],
      "source": [
        "train_loader = torch.utils.data.DataLoader(train_split, batch_size=BATCH_SIZE, shuffle=True)\n",
        "val_loader = torch.utils.data.DataLoader(val_split, batch_size=BATCH_SIZE, shuffle=True)\n",
        "test_loader = torch.utils.data.DataLoader(test_split, batch_size=BATCH_SIZE, shuffle=True)"
      ]
    },
    {
      "cell_type": "code",
      "execution_count": null,
      "metadata": {
        "colab": {
          "base_uri": "https://localhost:8080/"
        },
        "id": "mOjn0p7dSeiS",
        "outputId": "23b53d44-025f-41ed-862c-dacb20738be9"
      },
      "outputs": [],
      "source": [
        "epochs = 5\n",
        "steps_per_epoch = 200\n",
        "epoch_validation_samples = 50\n",
        "\n",
        "model_name = 'bert-base-uncased'\n",
        "model = BertForSequenceClassification.from_pretrained(model_name, num_labels=2, output_attentions=False, output_hidden_states=False)\n",
        "model.to(device)\n",
        "\n",
        "optim = torch.optim.Adam(model.parameters(), lr=2e-5)"
      ]
    },
    {
      "cell_type": "code",
      "execution_count": null,
      "metadata": {
        "id": "RmWfnXEDTxhL"
      },
      "outputs": [],
      "source": [
        "def model_step(model, batch_data, cur_step, compute_evaluation=False, optimizer=None):\n",
        "    if cur_step == 'train':\n",
        "        model.train()\n",
        "    elif cur_step == 'val':\n",
        "        model.eval()\n",
        "    \n",
        "    input_ids = batch_data['input_ids'].to(device)\n",
        "    attention_mask = batch_data['attention_mask'].to(device)\n",
        "    labels = batch_data['labels'].to(device)\n",
        "\n",
        "    output = model(input_ids, attention_mask=attention_mask, labels=labels.long())\n",
        "    \n",
        "    loss = output.loss\n",
        "    logits = output.logits\n",
        "\n",
        "    if cur_step == 'train':\n",
        "        optimizer.zero_grad()\n",
        "        loss.backward()\n",
        "        optimizer.step()\n",
        "    \n",
        "    evaluation = None\n",
        "    if compute_evaluation:\n",
        "        softmax_predictions = torch.nn.functional.softmax(logits, dim=1)\n",
        "        evaluation = compute_metrics([softmax_predictions.detach().cpu(), labels])\n",
        "\n",
        "    return loss.item() * labels.shape[0], evaluation"
      ]
    },
    {
      "cell_type": "code",
      "execution_count": null,
      "metadata": {
        "colab": {
          "base_uri": "https://localhost:8080/",
          "height": 310
        },
        "id": "fSKbMA79TP_4",
        "outputId": "1c19b579-98ad-4318-d4c2-f231844ce8d2"
      },
      "outputs": [],
      "source": [
        "epoch_data = {}\n",
        "\n",
        "for i in range(epochs):\n",
        "    epoch_data[i] = {'train': [], 'validation': []}\n",
        "    num_train_examples = 0\n",
        "    num_val_examples = 0\n",
        "\n",
        "    train_hits = 0\n",
        "    val_hits = 0\n",
        "\n",
        "    train_bar = tqdm(total=len(train_loader), desc=f\"Train\", unit=\"steps\", position=0, leave=False)\n",
        "    val_bar   = tqdm(total=epoch_validation_samples, desc=f\"Validation\", unit=\"samples\", position=0, leave=False)\n",
        "\n",
        "    train_running_loss = 0\n",
        "    for batch_id, batch_data in enumerate(train_loader):\n",
        "        if (batch_id + 1) % 500 == 0:\n",
        "            loss, evaluation = model_step(model, batch_data, 'train', True, optim)\n",
        "            epoch_data[i]['train'].append(evaluation)\n",
        "        else:\n",
        "            loss, _ = model_step(model, batch_data, 'train', False, optim)\n",
        "\n",
        "        train_running_loss += loss\n",
        "\n",
        "        train_bar.update(1)\n",
        "\n",
        "    val_running_loss = 0\n",
        "    for batch_id, batch_data in enumerate(val_loader):\n",
        "        loss, evaluation = model_step(model, batch_data, 'val', True)\n",
        "        \n",
        "        val_running_loss += loss\n",
        "\n",
        "        epoch_data[i]['validation'].append(evaluation)\n",
        "        \n",
        "        val_bar.update(1)\n",
        "\n",
        "        if (batch_id + 1) % epoch_validation_samples == 0:\n",
        "            break\n",
        "    \n",
        "    train_acc = np.mean([eval['accuracy'] for eval in epoch_data[i]['train']])\n",
        "    val_acc = np.mean([eval['accuracy'] for eval in epoch_data[i]['validation']])\n",
        "    \n",
        "    train_loss = train_running_loss / len(train_loader.sampler)\n",
        "    valid_loss = val_running_loss / len(val_loader.sampler)\n",
        "\n",
        "    print(f\"Epoch summary [{i+1}/{epochs}]\\t Train loss: {train_loss}\\t Train acc: {train_acc}\\t Val loss: {valid_loss}\\t Val acc: {val_acc}\")"
      ]
    },
    {
      "cell_type": "code",
      "execution_count": null,
      "metadata": {},
      "outputs": [],
      "source": [
        "torch.save(model.state_dict(), './model_weights_loop.pth')"
      ]
    },
    {
      "attachments": {},
      "cell_type": "markdown",
      "metadata": {},
      "source": [
        "## **Avaliando modelo no IMDB**"
      ]
    },
    {
      "cell_type": "code",
      "execution_count": null,
      "metadata": {},
      "outputs": [],
      "source": [
        "import re\n",
        "import numpy as np\n",
        "import pandas as pd\n",
        "from tqdm import tqdm\n",
        "\n",
        "import seaborn as sns\n",
        "sns.set()\n",
        "\n",
        "import matplotlib.pyplot as plt\n",
        "\n",
        "import torch\n",
        "from torch.utils.data import Dataset, DataLoader\n",
        "\n",
        "import evaluate\n",
        "\n",
        "from transformers import AutoTokenizer\n",
        "from transformers import BertForSequenceClassification\n",
        "# from transformers import TrainingArguments, Trainer\n",
        "# from transformers import DataCollatorWithPadding"
      ]
    },
    {
      "cell_type": "code",
      "execution_count": null,
      "metadata": {},
      "outputs": [],
      "source": [
        "device = torch.device('cuda:0' if torch.cuda.is_available() else 'cpu')\n",
        "print(f'{device=}')"
      ]
    },
    {
      "cell_type": "code",
      "execution_count": null,
      "metadata": {},
      "outputs": [],
      "source": [
        "torch.__version__"
      ]
    },
    {
      "cell_type": "code",
      "execution_count": null,
      "metadata": {},
      "outputs": [],
      "source": [
        "import torch\n",
        "torch.__version__"
      ]
    },
    {
      "cell_type": "code",
      "execution_count": null,
      "metadata": {},
      "outputs": [],
      "source": [
        "import torchaudio\n",
        "torchaudio.__version__"
      ]
    },
    {
      "cell_type": "code",
      "execution_count": null,
      "metadata": {},
      "outputs": [],
      "source": [
        "import torchvision\n",
        "torchvision.__version__"
      ]
    },
    {
      "cell_type": "code",
      "execution_count": null,
      "metadata": {},
      "outputs": [],
      "source": [
        "state_dict = torch.load('model_weights_loop.pth')"
      ]
    },
    {
      "cell_type": "code",
      "execution_count": null,
      "metadata": {},
      "outputs": [],
      "source": [
        "state_dict = {k: v for k,v in state_dict.items() if k != 'bert.embeddings.position_ids'}"
      ]
    },
    {
      "cell_type": "code",
      "execution_count": null,
      "metadata": {},
      "outputs": [],
      "source": [
        "model_name = 'bert-base-uncased'\n",
        "model = BertForSequenceClassification.from_pretrained(model_name, num_labels=2, output_attentions=False, output_hidden_states=False)\n",
        "model.load_state_dict(state_dict)\n",
        "model.to(device)"
      ]
    },
    {
      "cell_type": "code",
      "execution_count": null,
      "metadata": {},
      "outputs": [],
      "source": [
        "df_imdb = pd.read_csv('IMDB_Dataset.csv')"
      ]
    },
    {
      "cell_type": "code",
      "execution_count": null,
      "metadata": {},
      "outputs": [],
      "source": [
        "df_imdb.head()"
      ]
    },
    {
      "cell_type": "code",
      "execution_count": null,
      "metadata": {},
      "outputs": [],
      "source": [
        "df_imdb['sentiment'].unique()"
      ]
    },
    {
      "cell_type": "code",
      "execution_count": null,
      "metadata": {},
      "outputs": [],
      "source": [
        "df_imdb['label'] = df_imdb.apply(lambda x: 1 if x.loc['sentiment'] == 'positive' else 0, axis=1)"
      ]
    },
    {
      "cell_type": "code",
      "execution_count": null,
      "metadata": {},
      "outputs": [],
      "source": [
        "def preprocess_with_emojis(text):\n",
        "    preprocessed_text = re.sub(r'http\\S+', '', text) # removendo links\n",
        "    preprocessed_text = preprocessed_text.replace('\"', '')    # removendo aspas\n",
        "    preprocessed_text = re.sub(\"[-*!,$><:.+?=]\", '', preprocessed_text) # remove outras pontuações\n",
        "\n",
        "    preprocessed_text = re.sub(r'[.]\\s+', '', preprocessed_text)  # removendo reticências \n",
        "    # emojis = re.compile(\"[\"\n",
        "    #     u\"\\U0001F600-\\U0001F64F\"  # emoticons\n",
        "    #     u\"\\U0001F300-\\U0001F5FF\"  # symbols & pictographs\n",
        "    #     u\"\\U0001F680-\\U0001F6FF\"  # transport & map symbols\n",
        "    #     u\"\\U0001F1E0-\\U0001F1FF\"  # flags (iOS)\n",
        "    #     u\"\\U00002500-\\U00002BEF\"  # chinese char\n",
        "    #     u\"\\U00002702-\\U000027B0\"\n",
        "    #     u\"\\U00002702-\\U000027B0\"\n",
        "    #     u\"\\U000024C2-\\U0001F251\"\n",
        "    #     u\"\\U0001f926-\\U0001f937\"\n",
        "    #     u\"\\U00010000-\\U0010ffff\"\n",
        "    #     u\"\\u2640-\\u2642\" \n",
        "    #     u\"\\u2600-\\u2B55\"\n",
        "    #     u\"\\u200d\"\n",
        "    #     u\"\\u23cf\"\n",
        "    #     u\"\\u23e9\"\n",
        "    #     u\"\\u231a\"\n",
        "    #     u\"\\ufe0f\"  # dingbats\n",
        "    #     u\"\\u3030\"\n",
        "    #                   \"]+\", re.UNICODE)\n",
        "    # preprocessed_text = re.sub(emojis, ' ', preprocessed_text) # removendo emojis\n",
        "    preprocessed_text = re.sub(r'  ', ' ', preprocessed_text) # removendo espaços extras\n",
        "    \n",
        "    return preprocessed_text.lower()  \n",
        "\n",
        "def pre_process_text(text):\n",
        "    preprocessed_text = re.sub(r'http\\S+', '', text) # removendo links\n",
        "    preprocessed_text = preprocessed_text.replace('\"', '')    # removendo aspas\n",
        "    preprocessed_text = re.sub(r\"<\\S*\\ ?\\/?>\", '', preprocessed_text)\n",
        "    preprocessed_text = re.sub(\"[-*!,$><:.+?=]\", '', preprocessed_text) # remove outras pontuações\n",
        "\n",
        "    preprocessed_text = re.sub(r'[.]\\s+', '', preprocessed_text)  # removendo reticências \n",
        "    preprocessed_text = re.sub(r'  ', ' ', preprocessed_text) # removendo espaços extras\n",
        "    \n",
        "    return preprocessed_text.lower()"
      ]
    },
    {
      "cell_type": "code",
      "execution_count": null,
      "metadata": {},
      "outputs": [],
      "source": [
        "df_imdb['preprocessed_text'] = df_imdb['review'].apply(pre_process_text)"
      ]
    },
    {
      "cell_type": "code",
      "execution_count": null,
      "metadata": {},
      "outputs": [],
      "source": [
        "df_imdb.head()"
      ]
    },
    {
      "cell_type": "code",
      "execution_count": null,
      "metadata": {},
      "outputs": [],
      "source": [
        "base = 'bert-base-uncased'\n",
        "tokenizer = AutoTokenizer.from_pretrained(base)"
      ]
    },
    {
      "cell_type": "code",
      "execution_count": null,
      "metadata": {},
      "outputs": [],
      "source": [
        "imdb_tokenized = tokenizer.encode(df_imdb['preprocessed_text'].to_list(), return_tensors='pt', padding=True, truncation=True)"
      ]
    },
    {
      "cell_type": "code",
      "execution_count": null,
      "metadata": {},
      "outputs": [],
      "source": [
        "imdb_tokenized"
      ]
    },
    {
      "cell_type": "code",
      "execution_count": null,
      "metadata": {},
      "outputs": [],
      "source": [
        "class TextDataset(Dataset):\n",
        "    def __init__(self, X, y):\n",
        "        self.X = X\n",
        "        self.y = y\n",
        "        self.len = len(y)\n",
        "    \n",
        "    def __len__(self):\n",
        "        return self.len\n",
        "    \n",
        "    def __getitem__(self, idx):\n",
        "        item = {key: val[idx] for key, val in self.X.items()} \n",
        "        item['labels'] = self.y[idx]\n",
        "        return item"
      ]
    },
    {
      "cell_type": "code",
      "execution_count": null,
      "metadata": {},
      "outputs": [],
      "source": [
        "dataset = TextDataset(imdb_tokenized, torch.tensor(df_imdb['label'].to_numpy()))"
      ]
    },
    {
      "cell_type": "code",
      "execution_count": null,
      "metadata": {},
      "outputs": [],
      "source": [
        "imdb_tokenized.keys()"
      ]
    },
    {
      "cell_type": "code",
      "execution_count": null,
      "metadata": {},
      "outputs": [],
      "source": [
        "imdb_dataloader = DataLoader(dataset, batch_size=16, shuffle=True)"
      ]
    },
    {
      "cell_type": "code",
      "execution_count": null,
      "metadata": {},
      "outputs": [],
      "source": [
        "len(imdb_dataloader)"
      ]
    },
    {
      "cell_type": "code",
      "execution_count": null,
      "metadata": {},
      "outputs": [],
      "source": [
        "next(iter(imdb_dataloader))"
      ]
    },
    {
      "cell_type": "code",
      "execution_count": null,
      "metadata": {},
      "outputs": [],
      "source": [
        "metric = evaluate.load(\"accuracy\")\n",
        "\n",
        "bar = tqdm(total=len(imdb_dataloader), desc=f\"Evaluation on imdb-dataset\", unit=\"steps\", position=0, leave=False)\n",
        "\n",
        "model.eval()\n",
        "for batch in imdb_dataloader:\n",
        "    batch = {k: v.to(device) for k, v in batch.items()}\n",
        "    print(batch.keys())\n",
        "    with torch.no_grad():\n",
        "        outputs = model(**batch)\n",
        "\n",
        "    logits = outputs.logits\n",
        "    predictions = torch.argmax(logits, dim=-1)\n",
        "    metric.add_batch(predictions=predictions, references=batch[\"labels\"])\n",
        "    bar.update(1)\n",
        "metric.compute()"
      ]
    },
    {
      "cell_type": "code",
      "execution_count": null,
      "metadata": {},
      "outputs": [],
      "source": [
        "outputs"
      ]
    },
    {
      "attachments": {},
      "cell_type": "markdown",
      "metadata": {},
      "source": [
        "## TODO: \n",
        "- Mudar de classes binárias (positivo/negativo) para múltiplas classes: alegria, tristeza, raiva,...\n",
        "- Incrementar e pesquisar mais sobre o pré-processamento para modelos de linguagem natural + BERT\n",
        "- Treinar o modelo\n",
        "- Comparar resultados de alguma forma com o IMDB_dataset"
      ]
    }
  ],
  "metadata": {
    "accelerator": "GPU",
    "colab": {
      "gpuType": "T4",
      "provenance": []
    },
    "gpuClass": "standard",
    "kernelspec": {
      "display_name": "sa-data",
      "language": "python",
      "name": "python3"
    },
    "language_info": {
      "codemirror_mode": {
        "name": "ipython",
        "version": 3
      },
      "file_extension": ".py",
      "mimetype": "text/x-python",
      "name": "python",
      "nbconvert_exporter": "python",
      "pygments_lexer": "ipython3",
      "version": "3.10.12"
    },
    "orig_nbformat": 4,
    "widgets": {
      "application/vnd.jupyter.widget-state+json": {
        "018b49955c754a7482e858bd5946597c": {
          "model_module": "@jupyter-widgets/controls",
          "model_module_version": "1.5.0",
          "model_name": "HTMLModel",
          "state": {
            "_dom_classes": [],
            "_model_module": "@jupyter-widgets/controls",
            "_model_module_version": "1.5.0",
            "_model_name": "HTMLModel",
            "_view_count": null,
            "_view_module": "@jupyter-widgets/controls",
            "_view_module_version": "1.5.0",
            "_view_name": "HTMLView",
            "description": "",
            "description_tooltip": null,
            "layout": "IPY_MODEL_f759fe3b1d9d443ead8755fb1fdcac3c",
            "placeholder": "​",
            "style": "IPY_MODEL_f8249641a1ac4190b358c3dd4982fa73",
            "value": " 466k/466k [00:00&lt;00:00, 2.84MB/s]"
          }
        },
        "064f63b734b8444490c6b562689ed91d": {
          "model_module": "@jupyter-widgets/controls",
          "model_module_version": "1.5.0",
          "model_name": "ProgressStyleModel",
          "state": {
            "_model_module": "@jupyter-widgets/controls",
            "_model_module_version": "1.5.0",
            "_model_name": "ProgressStyleModel",
            "_view_count": null,
            "_view_module": "@jupyter-widgets/base",
            "_view_module_version": "1.2.0",
            "_view_name": "StyleView",
            "bar_color": null,
            "description_width": ""
          }
        },
        "0749dce4ec5446d8af903bbf81d847f4": {
          "model_module": "@jupyter-widgets/controls",
          "model_module_version": "1.5.0",
          "model_name": "DescriptionStyleModel",
          "state": {
            "_model_module": "@jupyter-widgets/controls",
            "_model_module_version": "1.5.0",
            "_model_name": "DescriptionStyleModel",
            "_view_count": null,
            "_view_module": "@jupyter-widgets/base",
            "_view_module_version": "1.2.0",
            "_view_name": "StyleView",
            "description_width": ""
          }
        },
        "0a1309ab5a7649b090bb759480309167": {
          "model_module": "@jupyter-widgets/controls",
          "model_module_version": "1.5.0",
          "model_name": "DescriptionStyleModel",
          "state": {
            "_model_module": "@jupyter-widgets/controls",
            "_model_module_version": "1.5.0",
            "_model_name": "DescriptionStyleModel",
            "_view_count": null,
            "_view_module": "@jupyter-widgets/base",
            "_view_module_version": "1.2.0",
            "_view_name": "StyleView",
            "description_width": ""
          }
        },
        "0c7918746f764b80807e3591d7263889": {
          "model_module": "@jupyter-widgets/controls",
          "model_module_version": "1.5.0",
          "model_name": "DescriptionStyleModel",
          "state": {
            "_model_module": "@jupyter-widgets/controls",
            "_model_module_version": "1.5.0",
            "_model_name": "DescriptionStyleModel",
            "_view_count": null,
            "_view_module": "@jupyter-widgets/base",
            "_view_module_version": "1.2.0",
            "_view_name": "StyleView",
            "description_width": ""
          }
        },
        "108763e0c75d44e9969c883477664e70": {
          "model_module": "@jupyter-widgets/base",
          "model_module_version": "1.2.0",
          "model_name": "LayoutModel",
          "state": {
            "_model_module": "@jupyter-widgets/base",
            "_model_module_version": "1.2.0",
            "_model_name": "LayoutModel",
            "_view_count": null,
            "_view_module": "@jupyter-widgets/base",
            "_view_module_version": "1.2.0",
            "_view_name": "LayoutView",
            "align_content": null,
            "align_items": null,
            "align_self": null,
            "border": null,
            "bottom": null,
            "display": null,
            "flex": null,
            "flex_flow": null,
            "grid_area": null,
            "grid_auto_columns": null,
            "grid_auto_flow": null,
            "grid_auto_rows": null,
            "grid_column": null,
            "grid_gap": null,
            "grid_row": null,
            "grid_template_areas": null,
            "grid_template_columns": null,
            "grid_template_rows": null,
            "height": null,
            "justify_content": null,
            "justify_items": null,
            "left": null,
            "margin": null,
            "max_height": null,
            "max_width": null,
            "min_height": null,
            "min_width": null,
            "object_fit": null,
            "object_position": null,
            "order": null,
            "overflow": null,
            "overflow_x": null,
            "overflow_y": null,
            "padding": null,
            "right": null,
            "top": null,
            "visibility": null,
            "width": null
          }
        },
        "1230828bdca7411ea2c00d323d030dc9": {
          "model_module": "@jupyter-widgets/controls",
          "model_module_version": "1.5.0",
          "model_name": "HTMLModel",
          "state": {
            "_dom_classes": [],
            "_model_module": "@jupyter-widgets/controls",
            "_model_module_version": "1.5.0",
            "_model_name": "HTMLModel",
            "_view_count": null,
            "_view_module": "@jupyter-widgets/controls",
            "_view_module_version": "1.5.0",
            "_view_name": "HTMLView",
            "description": "",
            "description_tooltip": null,
            "layout": "IPY_MODEL_416a838f4ab94ab7ab78d0c2205957fe",
            "placeholder": "​",
            "style": "IPY_MODEL_49936f8f0b3b4614ad0977a60fe868c5",
            "value": "Downloading (…)okenizer_config.json: 100%"
          }
        },
        "12715c584ac24d279d0bca01f9f969f1": {
          "model_module": "@jupyter-widgets/base",
          "model_module_version": "1.2.0",
          "model_name": "LayoutModel",
          "state": {
            "_model_module": "@jupyter-widgets/base",
            "_model_module_version": "1.2.0",
            "_model_name": "LayoutModel",
            "_view_count": null,
            "_view_module": "@jupyter-widgets/base",
            "_view_module_version": "1.2.0",
            "_view_name": "LayoutView",
            "align_content": null,
            "align_items": null,
            "align_self": null,
            "border": null,
            "bottom": null,
            "display": null,
            "flex": null,
            "flex_flow": null,
            "grid_area": null,
            "grid_auto_columns": null,
            "grid_auto_flow": null,
            "grid_auto_rows": null,
            "grid_column": null,
            "grid_gap": null,
            "grid_row": null,
            "grid_template_areas": null,
            "grid_template_columns": null,
            "grid_template_rows": null,
            "height": null,
            "justify_content": null,
            "justify_items": null,
            "left": null,
            "margin": null,
            "max_height": null,
            "max_width": null,
            "min_height": null,
            "min_width": null,
            "object_fit": null,
            "object_position": null,
            "order": null,
            "overflow": null,
            "overflow_x": null,
            "overflow_y": null,
            "padding": null,
            "right": null,
            "top": null,
            "visibility": null,
            "width": null
          }
        },
        "1b005d3d23814f4091e423bb3d41fd1b": {
          "model_module": "@jupyter-widgets/base",
          "model_module_version": "1.2.0",
          "model_name": "LayoutModel",
          "state": {
            "_model_module": "@jupyter-widgets/base",
            "_model_module_version": "1.2.0",
            "_model_name": "LayoutModel",
            "_view_count": null,
            "_view_module": "@jupyter-widgets/base",
            "_view_module_version": "1.2.0",
            "_view_name": "LayoutView",
            "align_content": null,
            "align_items": null,
            "align_self": null,
            "border": null,
            "bottom": null,
            "display": null,
            "flex": null,
            "flex_flow": null,
            "grid_area": null,
            "grid_auto_columns": null,
            "grid_auto_flow": null,
            "grid_auto_rows": null,
            "grid_column": null,
            "grid_gap": null,
            "grid_row": null,
            "grid_template_areas": null,
            "grid_template_columns": null,
            "grid_template_rows": null,
            "height": null,
            "justify_content": null,
            "justify_items": null,
            "left": null,
            "margin": null,
            "max_height": null,
            "max_width": null,
            "min_height": null,
            "min_width": null,
            "object_fit": null,
            "object_position": null,
            "order": null,
            "overflow": null,
            "overflow_x": null,
            "overflow_y": null,
            "padding": null,
            "right": null,
            "top": null,
            "visibility": null,
            "width": null
          }
        },
        "1cf7798a126242eda4f5247ac2a8e253": {
          "model_module": "@jupyter-widgets/base",
          "model_module_version": "1.2.0",
          "model_name": "LayoutModel",
          "state": {
            "_model_module": "@jupyter-widgets/base",
            "_model_module_version": "1.2.0",
            "_model_name": "LayoutModel",
            "_view_count": null,
            "_view_module": "@jupyter-widgets/base",
            "_view_module_version": "1.2.0",
            "_view_name": "LayoutView",
            "align_content": null,
            "align_items": null,
            "align_self": null,
            "border": null,
            "bottom": null,
            "display": null,
            "flex": null,
            "flex_flow": null,
            "grid_area": null,
            "grid_auto_columns": null,
            "grid_auto_flow": null,
            "grid_auto_rows": null,
            "grid_column": null,
            "grid_gap": null,
            "grid_row": null,
            "grid_template_areas": null,
            "grid_template_columns": null,
            "grid_template_rows": null,
            "height": null,
            "justify_content": null,
            "justify_items": null,
            "left": null,
            "margin": null,
            "max_height": null,
            "max_width": null,
            "min_height": null,
            "min_width": null,
            "object_fit": null,
            "object_position": null,
            "order": null,
            "overflow": null,
            "overflow_x": null,
            "overflow_y": null,
            "padding": null,
            "right": null,
            "top": null,
            "visibility": null,
            "width": null
          }
        },
        "298808cdde6443a7a27107e4051e94d3": {
          "model_module": "@jupyter-widgets/controls",
          "model_module_version": "1.5.0",
          "model_name": "HTMLModel",
          "state": {
            "_dom_classes": [],
            "_model_module": "@jupyter-widgets/controls",
            "_model_module_version": "1.5.0",
            "_model_name": "HTMLModel",
            "_view_count": null,
            "_view_module": "@jupyter-widgets/controls",
            "_view_module_version": "1.5.0",
            "_view_name": "HTMLView",
            "description": "",
            "description_tooltip": null,
            "layout": "IPY_MODEL_9b319c99480e4b8aad0b8efbecf9e484",
            "placeholder": "​",
            "style": "IPY_MODEL_4ce898cb9bb14b8189a1e07e7a9a4245",
            "value": "Downloading (…)/main/tokenizer.json: 100%"
          }
        },
        "2db8efea85414ccd90cf29ab1828fa71": {
          "model_module": "@jupyter-widgets/base",
          "model_module_version": "1.2.0",
          "model_name": "LayoutModel",
          "state": {
            "_model_module": "@jupyter-widgets/base",
            "_model_module_version": "1.2.0",
            "_model_name": "LayoutModel",
            "_view_count": null,
            "_view_module": "@jupyter-widgets/base",
            "_view_module_version": "1.2.0",
            "_view_name": "LayoutView",
            "align_content": null,
            "align_items": null,
            "align_self": null,
            "border": null,
            "bottom": null,
            "display": null,
            "flex": null,
            "flex_flow": null,
            "grid_area": null,
            "grid_auto_columns": null,
            "grid_auto_flow": null,
            "grid_auto_rows": null,
            "grid_column": null,
            "grid_gap": null,
            "grid_row": null,
            "grid_template_areas": null,
            "grid_template_columns": null,
            "grid_template_rows": null,
            "height": null,
            "justify_content": null,
            "justify_items": null,
            "left": null,
            "margin": null,
            "max_height": null,
            "max_width": null,
            "min_height": null,
            "min_width": null,
            "object_fit": null,
            "object_position": null,
            "order": null,
            "overflow": null,
            "overflow_x": null,
            "overflow_y": null,
            "padding": null,
            "right": null,
            "top": null,
            "visibility": null,
            "width": null
          }
        },
        "341f4058c4604dfc8a379e03190305a3": {
          "model_module": "@jupyter-widgets/controls",
          "model_module_version": "1.5.0",
          "model_name": "HTMLModel",
          "state": {
            "_dom_classes": [],
            "_model_module": "@jupyter-widgets/controls",
            "_model_module_version": "1.5.0",
            "_model_name": "HTMLModel",
            "_view_count": null,
            "_view_module": "@jupyter-widgets/controls",
            "_view_module_version": "1.5.0",
            "_view_name": "HTMLView",
            "description": "",
            "description_tooltip": null,
            "layout": "IPY_MODEL_fbde99897b844287a47bcc4fcc9e46e7",
            "placeholder": "​",
            "style": "IPY_MODEL_4ae2f11d315d47ba89ca54c7142b0cb7",
            "value": " 570/570 [00:00&lt;00:00, 37.2kB/s]"
          }
        },
        "410a9fc602ca4406866e54fa1f9f3042": {
          "model_module": "@jupyter-widgets/controls",
          "model_module_version": "1.5.0",
          "model_name": "ProgressStyleModel",
          "state": {
            "_model_module": "@jupyter-widgets/controls",
            "_model_module_version": "1.5.0",
            "_model_name": "ProgressStyleModel",
            "_view_count": null,
            "_view_module": "@jupyter-widgets/base",
            "_view_module_version": "1.2.0",
            "_view_name": "StyleView",
            "bar_color": null,
            "description_width": ""
          }
        },
        "416a838f4ab94ab7ab78d0c2205957fe": {
          "model_module": "@jupyter-widgets/base",
          "model_module_version": "1.2.0",
          "model_name": "LayoutModel",
          "state": {
            "_model_module": "@jupyter-widgets/base",
            "_model_module_version": "1.2.0",
            "_model_name": "LayoutModel",
            "_view_count": null,
            "_view_module": "@jupyter-widgets/base",
            "_view_module_version": "1.2.0",
            "_view_name": "LayoutView",
            "align_content": null,
            "align_items": null,
            "align_self": null,
            "border": null,
            "bottom": null,
            "display": null,
            "flex": null,
            "flex_flow": null,
            "grid_area": null,
            "grid_auto_columns": null,
            "grid_auto_flow": null,
            "grid_auto_rows": null,
            "grid_column": null,
            "grid_gap": null,
            "grid_row": null,
            "grid_template_areas": null,
            "grid_template_columns": null,
            "grid_template_rows": null,
            "height": null,
            "justify_content": null,
            "justify_items": null,
            "left": null,
            "margin": null,
            "max_height": null,
            "max_width": null,
            "min_height": null,
            "min_width": null,
            "object_fit": null,
            "object_position": null,
            "order": null,
            "overflow": null,
            "overflow_x": null,
            "overflow_y": null,
            "padding": null,
            "right": null,
            "top": null,
            "visibility": null,
            "width": null
          }
        },
        "4418165d579447db8d336ab25eb3e338": {
          "model_module": "@jupyter-widgets/controls",
          "model_module_version": "1.5.0",
          "model_name": "FloatProgressModel",
          "state": {
            "_dom_classes": [],
            "_model_module": "@jupyter-widgets/controls",
            "_model_module_version": "1.5.0",
            "_model_name": "FloatProgressModel",
            "_view_count": null,
            "_view_module": "@jupyter-widgets/controls",
            "_view_module_version": "1.5.0",
            "_view_name": "ProgressView",
            "bar_style": "success",
            "description": "",
            "description_tooltip": null,
            "layout": "IPY_MODEL_61b5e144377d4dcd9af41ec9f9d93400",
            "max": 570,
            "min": 0,
            "orientation": "horizontal",
            "style": "IPY_MODEL_410a9fc602ca4406866e54fa1f9f3042",
            "value": 570
          }
        },
        "4444ec23b27f4af0bd286f60aeec81a3": {
          "model_module": "@jupyter-widgets/controls",
          "model_module_version": "1.5.0",
          "model_name": "HTMLModel",
          "state": {
            "_dom_classes": [],
            "_model_module": "@jupyter-widgets/controls",
            "_model_module_version": "1.5.0",
            "_model_name": "HTMLModel",
            "_view_count": null,
            "_view_module": "@jupyter-widgets/controls",
            "_view_module_version": "1.5.0",
            "_view_name": "HTMLView",
            "description": "",
            "description_tooltip": null,
            "layout": "IPY_MODEL_b6af9fdc0bcf4b0e92886ceba2a63aa2",
            "placeholder": "​",
            "style": "IPY_MODEL_73149374edcf4b4a8a490c6a8e48e5cb",
            "value": " 232k/232k [00:00&lt;00:00, 1.44MB/s]"
          }
        },
        "49936f8f0b3b4614ad0977a60fe868c5": {
          "model_module": "@jupyter-widgets/controls",
          "model_module_version": "1.5.0",
          "model_name": "DescriptionStyleModel",
          "state": {
            "_model_module": "@jupyter-widgets/controls",
            "_model_module_version": "1.5.0",
            "_model_name": "DescriptionStyleModel",
            "_view_count": null,
            "_view_module": "@jupyter-widgets/base",
            "_view_module_version": "1.2.0",
            "_view_name": "StyleView",
            "description_width": ""
          }
        },
        "4ae2f11d315d47ba89ca54c7142b0cb7": {
          "model_module": "@jupyter-widgets/controls",
          "model_module_version": "1.5.0",
          "model_name": "DescriptionStyleModel",
          "state": {
            "_model_module": "@jupyter-widgets/controls",
            "_model_module_version": "1.5.0",
            "_model_name": "DescriptionStyleModel",
            "_view_count": null,
            "_view_module": "@jupyter-widgets/base",
            "_view_module_version": "1.2.0",
            "_view_name": "StyleView",
            "description_width": ""
          }
        },
        "4ce898cb9bb14b8189a1e07e7a9a4245": {
          "model_module": "@jupyter-widgets/controls",
          "model_module_version": "1.5.0",
          "model_name": "DescriptionStyleModel",
          "state": {
            "_model_module": "@jupyter-widgets/controls",
            "_model_module_version": "1.5.0",
            "_model_name": "DescriptionStyleModel",
            "_view_count": null,
            "_view_module": "@jupyter-widgets/base",
            "_view_module_version": "1.2.0",
            "_view_name": "StyleView",
            "description_width": ""
          }
        },
        "6065d35c66d3478ea36b0772143ad95c": {
          "model_module": "@jupyter-widgets/controls",
          "model_module_version": "1.5.0",
          "model_name": "HBoxModel",
          "state": {
            "_dom_classes": [],
            "_model_module": "@jupyter-widgets/controls",
            "_model_module_version": "1.5.0",
            "_model_name": "HBoxModel",
            "_view_count": null,
            "_view_module": "@jupyter-widgets/controls",
            "_view_module_version": "1.5.0",
            "_view_name": "HBoxView",
            "box_style": "",
            "children": [
              "IPY_MODEL_298808cdde6443a7a27107e4051e94d3",
              "IPY_MODEL_8dd295baec0c41469e16a08a09cfed7e",
              "IPY_MODEL_018b49955c754a7482e858bd5946597c"
            ],
            "layout": "IPY_MODEL_1cf7798a126242eda4f5247ac2a8e253"
          }
        },
        "61b5e144377d4dcd9af41ec9f9d93400": {
          "model_module": "@jupyter-widgets/base",
          "model_module_version": "1.2.0",
          "model_name": "LayoutModel",
          "state": {
            "_model_module": "@jupyter-widgets/base",
            "_model_module_version": "1.2.0",
            "_model_name": "LayoutModel",
            "_view_count": null,
            "_view_module": "@jupyter-widgets/base",
            "_view_module_version": "1.2.0",
            "_view_name": "LayoutView",
            "align_content": null,
            "align_items": null,
            "align_self": null,
            "border": null,
            "bottom": null,
            "display": null,
            "flex": null,
            "flex_flow": null,
            "grid_area": null,
            "grid_auto_columns": null,
            "grid_auto_flow": null,
            "grid_auto_rows": null,
            "grid_column": null,
            "grid_gap": null,
            "grid_row": null,
            "grid_template_areas": null,
            "grid_template_columns": null,
            "grid_template_rows": null,
            "height": null,
            "justify_content": null,
            "justify_items": null,
            "left": null,
            "margin": null,
            "max_height": null,
            "max_width": null,
            "min_height": null,
            "min_width": null,
            "object_fit": null,
            "object_position": null,
            "order": null,
            "overflow": null,
            "overflow_x": null,
            "overflow_y": null,
            "padding": null,
            "right": null,
            "top": null,
            "visibility": null,
            "width": null
          }
        },
        "630b46e33e404b329e9fb5a220256e68": {
          "model_module": "@jupyter-widgets/controls",
          "model_module_version": "1.5.0",
          "model_name": "FloatProgressModel",
          "state": {
            "_dom_classes": [],
            "_model_module": "@jupyter-widgets/controls",
            "_model_module_version": "1.5.0",
            "_model_name": "FloatProgressModel",
            "_view_count": null,
            "_view_module": "@jupyter-widgets/controls",
            "_view_module_version": "1.5.0",
            "_view_name": "ProgressView",
            "bar_style": "success",
            "description": "",
            "description_tooltip": null,
            "layout": "IPY_MODEL_12715c584ac24d279d0bca01f9f969f1",
            "max": 231508,
            "min": 0,
            "orientation": "horizontal",
            "style": "IPY_MODEL_064f63b734b8444490c6b562689ed91d",
            "value": 231508
          }
        },
        "64e13629ef25495cad8bdebbbc87efb8": {
          "model_module": "@jupyter-widgets/base",
          "model_module_version": "1.2.0",
          "model_name": "LayoutModel",
          "state": {
            "_model_module": "@jupyter-widgets/base",
            "_model_module_version": "1.2.0",
            "_model_name": "LayoutModel",
            "_view_count": null,
            "_view_module": "@jupyter-widgets/base",
            "_view_module_version": "1.2.0",
            "_view_name": "LayoutView",
            "align_content": null,
            "align_items": null,
            "align_self": null,
            "border": null,
            "bottom": null,
            "display": null,
            "flex": null,
            "flex_flow": null,
            "grid_area": null,
            "grid_auto_columns": null,
            "grid_auto_flow": null,
            "grid_auto_rows": null,
            "grid_column": null,
            "grid_gap": null,
            "grid_row": null,
            "grid_template_areas": null,
            "grid_template_columns": null,
            "grid_template_rows": null,
            "height": null,
            "justify_content": null,
            "justify_items": null,
            "left": null,
            "margin": null,
            "max_height": null,
            "max_width": null,
            "min_height": null,
            "min_width": null,
            "object_fit": null,
            "object_position": null,
            "order": null,
            "overflow": null,
            "overflow_x": null,
            "overflow_y": null,
            "padding": null,
            "right": null,
            "top": null,
            "visibility": null,
            "width": null
          }
        },
        "73149374edcf4b4a8a490c6a8e48e5cb": {
          "model_module": "@jupyter-widgets/controls",
          "model_module_version": "1.5.0",
          "model_name": "DescriptionStyleModel",
          "state": {
            "_model_module": "@jupyter-widgets/controls",
            "_model_module_version": "1.5.0",
            "_model_name": "DescriptionStyleModel",
            "_view_count": null,
            "_view_module": "@jupyter-widgets/base",
            "_view_module_version": "1.2.0",
            "_view_name": "StyleView",
            "description_width": ""
          }
        },
        "81f564d0193d48bd94821c18ab073d9a": {
          "model_module": "@jupyter-widgets/controls",
          "model_module_version": "1.5.0",
          "model_name": "HBoxModel",
          "state": {
            "_dom_classes": [],
            "_model_module": "@jupyter-widgets/controls",
            "_model_module_version": "1.5.0",
            "_model_name": "HBoxModel",
            "_view_count": null,
            "_view_module": "@jupyter-widgets/controls",
            "_view_module_version": "1.5.0",
            "_view_name": "HBoxView",
            "box_style": "",
            "children": [
              "IPY_MODEL_1230828bdca7411ea2c00d323d030dc9",
              "IPY_MODEL_98339c2ce5ff44e1a5c939a0891121d2",
              "IPY_MODEL_f9e965154dfa4e3cbd04c913d5a418ec"
            ],
            "layout": "IPY_MODEL_c6e25dedec574ae7bb2cdea93f76e114"
          }
        },
        "8dd295baec0c41469e16a08a09cfed7e": {
          "model_module": "@jupyter-widgets/controls",
          "model_module_version": "1.5.0",
          "model_name": "FloatProgressModel",
          "state": {
            "_dom_classes": [],
            "_model_module": "@jupyter-widgets/controls",
            "_model_module_version": "1.5.0",
            "_model_name": "FloatProgressModel",
            "_view_count": null,
            "_view_module": "@jupyter-widgets/controls",
            "_view_module_version": "1.5.0",
            "_view_name": "ProgressView",
            "bar_style": "success",
            "description": "",
            "description_tooltip": null,
            "layout": "IPY_MODEL_108763e0c75d44e9969c883477664e70",
            "max": 466062,
            "min": 0,
            "orientation": "horizontal",
            "style": "IPY_MODEL_b74ba9a7d9c441f0b600ad3babf41455",
            "value": 466062
          }
        },
        "917ff45836b5416892cb9e82235e3103": {
          "model_module": "@jupyter-widgets/controls",
          "model_module_version": "1.5.0",
          "model_name": "HBoxModel",
          "state": {
            "_dom_classes": [],
            "_model_module": "@jupyter-widgets/controls",
            "_model_module_version": "1.5.0",
            "_model_name": "HBoxModel",
            "_view_count": null,
            "_view_module": "@jupyter-widgets/controls",
            "_view_module_version": "1.5.0",
            "_view_name": "HBoxView",
            "box_style": "",
            "children": [
              "IPY_MODEL_a287798d55b445c9b6e2a7039c5e2c13",
              "IPY_MODEL_4418165d579447db8d336ab25eb3e338",
              "IPY_MODEL_341f4058c4604dfc8a379e03190305a3"
            ],
            "layout": "IPY_MODEL_64e13629ef25495cad8bdebbbc87efb8"
          }
        },
        "98339c2ce5ff44e1a5c939a0891121d2": {
          "model_module": "@jupyter-widgets/controls",
          "model_module_version": "1.5.0",
          "model_name": "FloatProgressModel",
          "state": {
            "_dom_classes": [],
            "_model_module": "@jupyter-widgets/controls",
            "_model_module_version": "1.5.0",
            "_model_name": "FloatProgressModel",
            "_view_count": null,
            "_view_module": "@jupyter-widgets/controls",
            "_view_module_version": "1.5.0",
            "_view_name": "ProgressView",
            "bar_style": "success",
            "description": "",
            "description_tooltip": null,
            "layout": "IPY_MODEL_f60b8f0a49eb4fe284a3d8366add29ca",
            "max": 28,
            "min": 0,
            "orientation": "horizontal",
            "style": "IPY_MODEL_e87f84973012488bbed438282b225ccb",
            "value": 28
          }
        },
        "9b319c99480e4b8aad0b8efbecf9e484": {
          "model_module": "@jupyter-widgets/base",
          "model_module_version": "1.2.0",
          "model_name": "LayoutModel",
          "state": {
            "_model_module": "@jupyter-widgets/base",
            "_model_module_version": "1.2.0",
            "_model_name": "LayoutModel",
            "_view_count": null,
            "_view_module": "@jupyter-widgets/base",
            "_view_module_version": "1.2.0",
            "_view_name": "LayoutView",
            "align_content": null,
            "align_items": null,
            "align_self": null,
            "border": null,
            "bottom": null,
            "display": null,
            "flex": null,
            "flex_flow": null,
            "grid_area": null,
            "grid_auto_columns": null,
            "grid_auto_flow": null,
            "grid_auto_rows": null,
            "grid_column": null,
            "grid_gap": null,
            "grid_row": null,
            "grid_template_areas": null,
            "grid_template_columns": null,
            "grid_template_rows": null,
            "height": null,
            "justify_content": null,
            "justify_items": null,
            "left": null,
            "margin": null,
            "max_height": null,
            "max_width": null,
            "min_height": null,
            "min_width": null,
            "object_fit": null,
            "object_position": null,
            "order": null,
            "overflow": null,
            "overflow_x": null,
            "overflow_y": null,
            "padding": null,
            "right": null,
            "top": null,
            "visibility": null,
            "width": null
          }
        },
        "9e201a64cbca48899176f1963b9469df": {
          "model_module": "@jupyter-widgets/controls",
          "model_module_version": "1.5.0",
          "model_name": "HBoxModel",
          "state": {
            "_dom_classes": [],
            "_model_module": "@jupyter-widgets/controls",
            "_model_module_version": "1.5.0",
            "_model_name": "HBoxModel",
            "_view_count": null,
            "_view_module": "@jupyter-widgets/controls",
            "_view_module_version": "1.5.0",
            "_view_name": "HBoxView",
            "box_style": "",
            "children": [
              "IPY_MODEL_fd478ff597d44c02a474cd2e638bed76",
              "IPY_MODEL_630b46e33e404b329e9fb5a220256e68",
              "IPY_MODEL_4444ec23b27f4af0bd286f60aeec81a3"
            ],
            "layout": "IPY_MODEL_1b005d3d23814f4091e423bb3d41fd1b"
          }
        },
        "a287798d55b445c9b6e2a7039c5e2c13": {
          "model_module": "@jupyter-widgets/controls",
          "model_module_version": "1.5.0",
          "model_name": "HTMLModel",
          "state": {
            "_dom_classes": [],
            "_model_module": "@jupyter-widgets/controls",
            "_model_module_version": "1.5.0",
            "_model_name": "HTMLModel",
            "_view_count": null,
            "_view_module": "@jupyter-widgets/controls",
            "_view_module_version": "1.5.0",
            "_view_name": "HTMLView",
            "description": "",
            "description_tooltip": null,
            "layout": "IPY_MODEL_c6801d01d89f47509e40dc7a64e72b25",
            "placeholder": "​",
            "style": "IPY_MODEL_0a1309ab5a7649b090bb759480309167",
            "value": "Downloading (…)lve/main/config.json: 100%"
          }
        },
        "b6af9fdc0bcf4b0e92886ceba2a63aa2": {
          "model_module": "@jupyter-widgets/base",
          "model_module_version": "1.2.0",
          "model_name": "LayoutModel",
          "state": {
            "_model_module": "@jupyter-widgets/base",
            "_model_module_version": "1.2.0",
            "_model_name": "LayoutModel",
            "_view_count": null,
            "_view_module": "@jupyter-widgets/base",
            "_view_module_version": "1.2.0",
            "_view_name": "LayoutView",
            "align_content": null,
            "align_items": null,
            "align_self": null,
            "border": null,
            "bottom": null,
            "display": null,
            "flex": null,
            "flex_flow": null,
            "grid_area": null,
            "grid_auto_columns": null,
            "grid_auto_flow": null,
            "grid_auto_rows": null,
            "grid_column": null,
            "grid_gap": null,
            "grid_row": null,
            "grid_template_areas": null,
            "grid_template_columns": null,
            "grid_template_rows": null,
            "height": null,
            "justify_content": null,
            "justify_items": null,
            "left": null,
            "margin": null,
            "max_height": null,
            "max_width": null,
            "min_height": null,
            "min_width": null,
            "object_fit": null,
            "object_position": null,
            "order": null,
            "overflow": null,
            "overflow_x": null,
            "overflow_y": null,
            "padding": null,
            "right": null,
            "top": null,
            "visibility": null,
            "width": null
          }
        },
        "b74ba9a7d9c441f0b600ad3babf41455": {
          "model_module": "@jupyter-widgets/controls",
          "model_module_version": "1.5.0",
          "model_name": "ProgressStyleModel",
          "state": {
            "_model_module": "@jupyter-widgets/controls",
            "_model_module_version": "1.5.0",
            "_model_name": "ProgressStyleModel",
            "_view_count": null,
            "_view_module": "@jupyter-widgets/base",
            "_view_module_version": "1.2.0",
            "_view_name": "StyleView",
            "bar_color": null,
            "description_width": ""
          }
        },
        "c6801d01d89f47509e40dc7a64e72b25": {
          "model_module": "@jupyter-widgets/base",
          "model_module_version": "1.2.0",
          "model_name": "LayoutModel",
          "state": {
            "_model_module": "@jupyter-widgets/base",
            "_model_module_version": "1.2.0",
            "_model_name": "LayoutModel",
            "_view_count": null,
            "_view_module": "@jupyter-widgets/base",
            "_view_module_version": "1.2.0",
            "_view_name": "LayoutView",
            "align_content": null,
            "align_items": null,
            "align_self": null,
            "border": null,
            "bottom": null,
            "display": null,
            "flex": null,
            "flex_flow": null,
            "grid_area": null,
            "grid_auto_columns": null,
            "grid_auto_flow": null,
            "grid_auto_rows": null,
            "grid_column": null,
            "grid_gap": null,
            "grid_row": null,
            "grid_template_areas": null,
            "grid_template_columns": null,
            "grid_template_rows": null,
            "height": null,
            "justify_content": null,
            "justify_items": null,
            "left": null,
            "margin": null,
            "max_height": null,
            "max_width": null,
            "min_height": null,
            "min_width": null,
            "object_fit": null,
            "object_position": null,
            "order": null,
            "overflow": null,
            "overflow_x": null,
            "overflow_y": null,
            "padding": null,
            "right": null,
            "top": null,
            "visibility": null,
            "width": null
          }
        },
        "c6e25dedec574ae7bb2cdea93f76e114": {
          "model_module": "@jupyter-widgets/base",
          "model_module_version": "1.2.0",
          "model_name": "LayoutModel",
          "state": {
            "_model_module": "@jupyter-widgets/base",
            "_model_module_version": "1.2.0",
            "_model_name": "LayoutModel",
            "_view_count": null,
            "_view_module": "@jupyter-widgets/base",
            "_view_module_version": "1.2.0",
            "_view_name": "LayoutView",
            "align_content": null,
            "align_items": null,
            "align_self": null,
            "border": null,
            "bottom": null,
            "display": null,
            "flex": null,
            "flex_flow": null,
            "grid_area": null,
            "grid_auto_columns": null,
            "grid_auto_flow": null,
            "grid_auto_rows": null,
            "grid_column": null,
            "grid_gap": null,
            "grid_row": null,
            "grid_template_areas": null,
            "grid_template_columns": null,
            "grid_template_rows": null,
            "height": null,
            "justify_content": null,
            "justify_items": null,
            "left": null,
            "margin": null,
            "max_height": null,
            "max_width": null,
            "min_height": null,
            "min_width": null,
            "object_fit": null,
            "object_position": null,
            "order": null,
            "overflow": null,
            "overflow_x": null,
            "overflow_y": null,
            "padding": null,
            "right": null,
            "top": null,
            "visibility": null,
            "width": null
          }
        },
        "e87f84973012488bbed438282b225ccb": {
          "model_module": "@jupyter-widgets/controls",
          "model_module_version": "1.5.0",
          "model_name": "ProgressStyleModel",
          "state": {
            "_model_module": "@jupyter-widgets/controls",
            "_model_module_version": "1.5.0",
            "_model_name": "ProgressStyleModel",
            "_view_count": null,
            "_view_module": "@jupyter-widgets/base",
            "_view_module_version": "1.2.0",
            "_view_name": "StyleView",
            "bar_color": null,
            "description_width": ""
          }
        },
        "ec48937136a347a3be3028dadbe721d0": {
          "model_module": "@jupyter-widgets/base",
          "model_module_version": "1.2.0",
          "model_name": "LayoutModel",
          "state": {
            "_model_module": "@jupyter-widgets/base",
            "_model_module_version": "1.2.0",
            "_model_name": "LayoutModel",
            "_view_count": null,
            "_view_module": "@jupyter-widgets/base",
            "_view_module_version": "1.2.0",
            "_view_name": "LayoutView",
            "align_content": null,
            "align_items": null,
            "align_self": null,
            "border": null,
            "bottom": null,
            "display": null,
            "flex": null,
            "flex_flow": null,
            "grid_area": null,
            "grid_auto_columns": null,
            "grid_auto_flow": null,
            "grid_auto_rows": null,
            "grid_column": null,
            "grid_gap": null,
            "grid_row": null,
            "grid_template_areas": null,
            "grid_template_columns": null,
            "grid_template_rows": null,
            "height": null,
            "justify_content": null,
            "justify_items": null,
            "left": null,
            "margin": null,
            "max_height": null,
            "max_width": null,
            "min_height": null,
            "min_width": null,
            "object_fit": null,
            "object_position": null,
            "order": null,
            "overflow": null,
            "overflow_x": null,
            "overflow_y": null,
            "padding": null,
            "right": null,
            "top": null,
            "visibility": null,
            "width": null
          }
        },
        "f60b8f0a49eb4fe284a3d8366add29ca": {
          "model_module": "@jupyter-widgets/base",
          "model_module_version": "1.2.0",
          "model_name": "LayoutModel",
          "state": {
            "_model_module": "@jupyter-widgets/base",
            "_model_module_version": "1.2.0",
            "_model_name": "LayoutModel",
            "_view_count": null,
            "_view_module": "@jupyter-widgets/base",
            "_view_module_version": "1.2.0",
            "_view_name": "LayoutView",
            "align_content": null,
            "align_items": null,
            "align_self": null,
            "border": null,
            "bottom": null,
            "display": null,
            "flex": null,
            "flex_flow": null,
            "grid_area": null,
            "grid_auto_columns": null,
            "grid_auto_flow": null,
            "grid_auto_rows": null,
            "grid_column": null,
            "grid_gap": null,
            "grid_row": null,
            "grid_template_areas": null,
            "grid_template_columns": null,
            "grid_template_rows": null,
            "height": null,
            "justify_content": null,
            "justify_items": null,
            "left": null,
            "margin": null,
            "max_height": null,
            "max_width": null,
            "min_height": null,
            "min_width": null,
            "object_fit": null,
            "object_position": null,
            "order": null,
            "overflow": null,
            "overflow_x": null,
            "overflow_y": null,
            "padding": null,
            "right": null,
            "top": null,
            "visibility": null,
            "width": null
          }
        },
        "f759fe3b1d9d443ead8755fb1fdcac3c": {
          "model_module": "@jupyter-widgets/base",
          "model_module_version": "1.2.0",
          "model_name": "LayoutModel",
          "state": {
            "_model_module": "@jupyter-widgets/base",
            "_model_module_version": "1.2.0",
            "_model_name": "LayoutModel",
            "_view_count": null,
            "_view_module": "@jupyter-widgets/base",
            "_view_module_version": "1.2.0",
            "_view_name": "LayoutView",
            "align_content": null,
            "align_items": null,
            "align_self": null,
            "border": null,
            "bottom": null,
            "display": null,
            "flex": null,
            "flex_flow": null,
            "grid_area": null,
            "grid_auto_columns": null,
            "grid_auto_flow": null,
            "grid_auto_rows": null,
            "grid_column": null,
            "grid_gap": null,
            "grid_row": null,
            "grid_template_areas": null,
            "grid_template_columns": null,
            "grid_template_rows": null,
            "height": null,
            "justify_content": null,
            "justify_items": null,
            "left": null,
            "margin": null,
            "max_height": null,
            "max_width": null,
            "min_height": null,
            "min_width": null,
            "object_fit": null,
            "object_position": null,
            "order": null,
            "overflow": null,
            "overflow_x": null,
            "overflow_y": null,
            "padding": null,
            "right": null,
            "top": null,
            "visibility": null,
            "width": null
          }
        },
        "f8249641a1ac4190b358c3dd4982fa73": {
          "model_module": "@jupyter-widgets/controls",
          "model_module_version": "1.5.0",
          "model_name": "DescriptionStyleModel",
          "state": {
            "_model_module": "@jupyter-widgets/controls",
            "_model_module_version": "1.5.0",
            "_model_name": "DescriptionStyleModel",
            "_view_count": null,
            "_view_module": "@jupyter-widgets/base",
            "_view_module_version": "1.2.0",
            "_view_name": "StyleView",
            "description_width": ""
          }
        },
        "f9e965154dfa4e3cbd04c913d5a418ec": {
          "model_module": "@jupyter-widgets/controls",
          "model_module_version": "1.5.0",
          "model_name": "HTMLModel",
          "state": {
            "_dom_classes": [],
            "_model_module": "@jupyter-widgets/controls",
            "_model_module_version": "1.5.0",
            "_model_name": "HTMLModel",
            "_view_count": null,
            "_view_module": "@jupyter-widgets/controls",
            "_view_module_version": "1.5.0",
            "_view_name": "HTMLView",
            "description": "",
            "description_tooltip": null,
            "layout": "IPY_MODEL_ec48937136a347a3be3028dadbe721d0",
            "placeholder": "​",
            "style": "IPY_MODEL_0c7918746f764b80807e3591d7263889",
            "value": " 28.0/28.0 [00:00&lt;00:00, 1.57kB/s]"
          }
        },
        "fbde99897b844287a47bcc4fcc9e46e7": {
          "model_module": "@jupyter-widgets/base",
          "model_module_version": "1.2.0",
          "model_name": "LayoutModel",
          "state": {
            "_model_module": "@jupyter-widgets/base",
            "_model_module_version": "1.2.0",
            "_model_name": "LayoutModel",
            "_view_count": null,
            "_view_module": "@jupyter-widgets/base",
            "_view_module_version": "1.2.0",
            "_view_name": "LayoutView",
            "align_content": null,
            "align_items": null,
            "align_self": null,
            "border": null,
            "bottom": null,
            "display": null,
            "flex": null,
            "flex_flow": null,
            "grid_area": null,
            "grid_auto_columns": null,
            "grid_auto_flow": null,
            "grid_auto_rows": null,
            "grid_column": null,
            "grid_gap": null,
            "grid_row": null,
            "grid_template_areas": null,
            "grid_template_columns": null,
            "grid_template_rows": null,
            "height": null,
            "justify_content": null,
            "justify_items": null,
            "left": null,
            "margin": null,
            "max_height": null,
            "max_width": null,
            "min_height": null,
            "min_width": null,
            "object_fit": null,
            "object_position": null,
            "order": null,
            "overflow": null,
            "overflow_x": null,
            "overflow_y": null,
            "padding": null,
            "right": null,
            "top": null,
            "visibility": null,
            "width": null
          }
        },
        "fd478ff597d44c02a474cd2e638bed76": {
          "model_module": "@jupyter-widgets/controls",
          "model_module_version": "1.5.0",
          "model_name": "HTMLModel",
          "state": {
            "_dom_classes": [],
            "_model_module": "@jupyter-widgets/controls",
            "_model_module_version": "1.5.0",
            "_model_name": "HTMLModel",
            "_view_count": null,
            "_view_module": "@jupyter-widgets/controls",
            "_view_module_version": "1.5.0",
            "_view_name": "HTMLView",
            "description": "",
            "description_tooltip": null,
            "layout": "IPY_MODEL_2db8efea85414ccd90cf29ab1828fa71",
            "placeholder": "​",
            "style": "IPY_MODEL_0749dce4ec5446d8af903bbf81d847f4",
            "value": "Downloading (…)solve/main/vocab.txt: 100%"
          }
        }
      }
    }
  },
  "nbformat": 4,
  "nbformat_minor": 0
}
